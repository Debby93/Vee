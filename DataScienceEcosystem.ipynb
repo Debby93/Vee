{
 "cells": [
  {
   "cell_type": "markdown",
   "id": "fd58a4b9",
   "metadata": {},
   "source": [
    "# Data Science Tools and Ecosystem"
   ]
  },
  {
   "cell_type": "markdown",
   "id": "b224b8d2",
   "metadata": {},
   "source": [
    "In this notebook, Data Science Tools and Ecosystem will be summarized."
   ]
  },
  {
   "cell_type": "markdown",
   "id": "98d4ae77",
   "metadata": {},
   "source": [
    "Some of the popular languages that Data Scientists uses are:\n",
    "1. Python\n",
    "2. SQL\n",
    "3. R\n",
    "4. Scala\n",
    "5. Java"
   ]
  },
  {
   "cell_type": "markdown",
   "id": "9c77e30c",
   "metadata": {},
   "source": [
    "Some of the common Libraries used by Data Scientists includes;\n",
    "1. Scikit-learn\n",
    "2. Keras\n",
    "3. TensorFlow\n",
    "4. Seaborn\n",
    "5. SciPy"
   ]
  },
  {
   "cell_type": "markdown",
   "id": "dd07ef85",
   "metadata": {},
   "source": [
    "Some list of Data Science Tools:\n",
    " |Data Science Tools|\n",
    "--------------------\n",
    "|Jupyter Notebook|\n",
    "|Apache Spark|\n",
    "|R|"
   ]
  },
  {
   "cell_type": "markdown",
   "id": "17d4f01b",
   "metadata": {},
   "source": [
    "### Below are few examples od evaluating arithmetic expressions in Python."
   ]
  },
  {
   "cell_type": "code",
   "execution_count": 1,
   "id": "7770bf3b",
   "metadata": {},
   "outputs": [
    {
     "data": {
      "text/plain": [
       "17"
      ]
     },
     "execution_count": 1,
     "metadata": {},
     "output_type": "execute_result"
    }
   ],
   "source": [
    "# this is a simple arithmetic expression to multiply then add integers\n",
    "(3*4)+5"
   ]
  },
  {
   "cell_type": "code",
   "execution_count": 2,
   "id": "15cb1eba",
   "metadata": {},
   "outputs": [
    {
     "data": {
      "text/plain": [
       "3.3333333333333335"
      ]
     },
     "execution_count": 2,
     "metadata": {},
     "output_type": "execute_result"
    }
   ],
   "source": [
    "# This will convert 200 minutes to hours by dividing by 60\n",
    "200/60"
   ]
  },
  {
   "cell_type": "markdown",
   "id": "8712d59f",
   "metadata": {},
   "source": [
    "**Objectives:**\n",
    "* List common languages for Data Science\n",
    "* List common libraries for Data Science\n",
    "* List common tools for Data Science\n",
    "* Arithmetic Expression"
   ]
  },
  {
   "cell_type": "markdown",
   "id": "4e8b805b",
   "metadata": {},
   "source": [
    "## Author\n",
    "Oluwakemi D. Ojewande"
   ]
  },
  {
   "cell_type": "code",
   "execution_count": null,
   "id": "b35a2a3d",
   "metadata": {},
   "outputs": [],
   "source": []
  }
 ],
 "metadata": {
  "kernelspec": {
   "display_name": "Python 3 (ipykernel)",
   "language": "python",
   "name": "python3"
  },
  "language_info": {
   "codemirror_mode": {
    "name": "ipython",
    "version": 3
   },
   "file_extension": ".py",
   "mimetype": "text/x-python",
   "name": "python",
   "nbconvert_exporter": "python",
   "pygments_lexer": "ipython3",
   "version": "3.10.9"
  }
 },
 "nbformat": 4,
 "nbformat_minor": 5
}
